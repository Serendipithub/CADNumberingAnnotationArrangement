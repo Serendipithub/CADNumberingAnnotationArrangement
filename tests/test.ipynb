{
 "cells": [
  {
   "cell_type": "markdown",
   "id": "df98c1a3",
   "metadata": {},
   "source": [
    "### 导入所需要的包"
   ]
  },
  {
   "cell_type": "code",
   "execution_count": null,
   "id": "8a5d5a98",
   "metadata": {},
   "outputs": [],
   "source": [
    "import sys\n",
    "import os\n",
    "\n",
    "# 添加 src 到路径，便于导入\n",
    "sys.path.append(os.path.abspath(os.path.join(os.path.dirname(\"__file__\"), \"../src\")))\n",
    "\n",
    "%matplotlib widget\n",
    "import matplotlib.pyplot as plt\n",
    "\n",
    "import json\n",
    "\n",
    "from shapely.geometry import Point, Polygon, LineString, box\n",
    "import math\n",
    "import numpy as np\n",
    "import re\n",
    "from rich import print\n",
    "\n",
    "# 自定义模块导入\n",
    "from display_class import *\n",
    "from CADAlgo.check import *\n",
    "from CADAlgo.generate import *\n",
    "from CADAlgo.parser import *"
   ]
  },
  {
   "cell_type": "code",
   "execution_count": null,
   "id": "6e17ec5a",
   "metadata": {},
   "outputs": [],
   "source": [
    "def test_from_json(path: str):\n",
    "    with open(path, \"r\", encoding=\"utf-8\") as f:\n",
    "        final_result_dict = json.load(f)\n",
    "    schema = parse_schema(final_result_dict)\n",
    "    _, _ = plot_schema(schema)\n",
    "    line_candidate: list[LineString] = []\n",
    "    for my_line in schema.line_candidates[:]:\n",
    "        for l in my_line.lines:\n",
    "            line_candidate.append(l.geometry)\n",
    "\n",
    "    point_candidates = schema.point_candidates\n",
    "    line_candidates = schema.line_candidates\n",
    "    exterior = schema.target_exterior\n",
    "    obstacles = [obstacle_box.geometry for obstacle_box in schema.obstacle_boxes]\n",
    "    samples_distance = 3\n",
    "    lines = generate_connection_lines_from_point_candidates_backtracking(\n",
    "        point_candidates, line_candidates, exterior, obstacles,dispel_lines=[], samples_distance=samples_distance\n",
    "    )\n",
    "\n",
    "    fig, ax = plot_schema(schema)\n",
    "\n",
    "    # 连接线\n",
    "    for line in lines:\n",
    "        x_line, y_line = line.xy\n",
    "        ax.plot(x_line, y_line, color=\"magenta\", linewidth=1.5)\n",
    "\n",
    "    print(f\"Total parts: {len(schema.point_candidates)+len(schema.line_candidates)}\")"
   ]
  },
  {
   "cell_type": "code",
   "execution_count": null,
   "id": "67b1db1f",
   "metadata": {},
   "outputs": [],
   "source": [
    "test_from_json(os.path.join(\"生成参数\", \"_N02正视图.json\"))"
   ]
  },
  {
   "cell_type": "code",
   "execution_count": null,
   "id": "87345949",
   "metadata": {},
   "outputs": [],
   "source": [
    "test_from_json(os.path.join(\"生成参数\", \"_N03正视图.json\"))"
   ]
  },
  {
   "cell_type": "code",
   "execution_count": null,
   "id": "ca1370d1",
   "metadata": {},
   "outputs": [],
   "source": [
    "test_from_json(os.path.join(\"生成参数\", \"_N04正视图.json\"))"
   ]
  },
  {
   "cell_type": "code",
   "execution_count": null,
   "id": "d89670b3",
   "metadata": {},
   "outputs": [],
   "source": [
    "test_from_json(os.path.join(\"生成参数\",\"_N05正视图.json\"))"
   ]
  },
  {
   "cell_type": "code",
   "execution_count": null,
   "id": "8d32c9d6",
   "metadata": {},
   "outputs": [],
   "source": [
    "test_from_json(os.path.join(\"生成参数\", \"_N11正视图.json\"))"
   ]
  },
  {
   "cell_type": "code",
   "execution_count": null,
   "id": "1854fb88",
   "metadata": {},
   "outputs": [],
   "source": []
  }
 ],
 "metadata": {
  "kernelspec": {
   "display_name": ".venv",
   "language": "python",
   "name": "python3"
  },
  "language_info": {
   "codemirror_mode": {
    "name": "ipython",
    "version": 3
   },
   "file_extension": ".py",
   "mimetype": "text/x-python",
   "name": "python",
   "nbconvert_exporter": "python",
   "pygments_lexer": "ipython3",
   "version": "3.13.6"
  }
 },
 "nbformat": 4,
 "nbformat_minor": 5
}
