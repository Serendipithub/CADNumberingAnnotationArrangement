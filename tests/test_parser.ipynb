{
 "cells": [
  {
   "cell_type": "code",
   "execution_count": 1,
   "id": "96385a6f",
   "metadata": {},
   "outputs": [
    {
     "name": "stdout",
     "output_type": "stream",
     "text": [
      "当前工作目录: c:\\Users\\bimer\\Desktop\\CADNumberingAnnotationArrangement\\tests\n"
     ]
    }
   ],
   "source": [
    "import sys\n",
    "import os\n",
    "\n",
    "# 添加 src 到路径，便于导入\n",
    "sys.path.append(os.path.abspath(os.path.join(os.path.dirname(\"__file__\"), \"../src\")))\n",
    "print(\"当前工作目录:\", os.getcwd())"
   ]
  },
  {
   "cell_type": "code",
   "execution_count": 2,
   "id": "2d9de774",
   "metadata": {},
   "outputs": [],
   "source": [
    "from CADAlgo.parser import *\n",
    "import json"
   ]
  },
  {
   "cell_type": "code",
   "execution_count": 3,
   "id": "6a951565",
   "metadata": {},
   "outputs": [],
   "source": [
    "with open(\"input.json\", \"r\", encoding=\"utf-8\") as f:\n",
    "    data = json.load(f)\n",
    "\n",
    "schema = parse_schema(data)\n",
    "\n",
    "# to \n",
    "\n",
    "_ = False"
   ]
  },
  {
   "cell_type": "code",
   "execution_count": 4,
   "id": "7d43b932",
   "metadata": {},
   "outputs": [
    {
     "data": {
      "text/plain": [
       "<CADAlgo.parser.Schema at 0x20b4d585d30>"
      ]
     },
     "execution_count": 4,
     "metadata": {},
     "output_type": "execute_result"
    }
   ],
   "source": [
    "schema"
   ]
  }
 ],
 "metadata": {
  "kernelspec": {
   "display_name": "Python 3",
   "language": "python",
   "name": "python3"
  },
  "language_info": {
   "codemirror_mode": {
    "name": "ipython",
    "version": 3
   },
   "file_extension": ".py",
   "mimetype": "text/x-python",
   "name": "python",
   "nbconvert_exporter": "python",
   "pygments_lexer": "ipython3",
   "version": "3.13.5"
  }
 },
 "nbformat": 4,
 "nbformat_minor": 5
}
