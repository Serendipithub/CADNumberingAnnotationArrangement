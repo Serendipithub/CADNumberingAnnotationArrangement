{
 "cells": [
  {
   "cell_type": "markdown",
   "id": "6dc8b388",
   "metadata": {},
   "source": [
    "### 环境设置"
   ]
  },
  {
   "cell_type": "code",
   "execution_count": null,
   "id": "0e689f61",
   "metadata": {},
   "outputs": [],
   "source": [
    "import sys\n",
    "import os\n",
    "\n",
    "# 添加 src 到路径，便于导入\n",
    "sys.path.append(os.path.abspath(os.path.join(os.path.dirname(\"__file__\"), \"../\")))"
   ]
  },
  {
   "cell_type": "markdown",
   "id": "df98c1a3",
   "metadata": {},
   "source": [
    "### 导入所需要的包"
   ]
  },
  {
   "cell_type": "code",
   "execution_count": null,
   "id": "8a5d5a98",
   "metadata": {},
   "outputs": [],
   "source": [
    "from typing import List, Set, Tuple\n",
    "from shapely.geometry import Point, Polygon, LineString, box\n",
    "import matplotlib.pyplot as plt\n",
    "from heapq import heappush, heappop\n",
    "\n",
    "# 自定义模块导入\n",
    "from CADAlgo.check import is_valid_line\n",
    "from CADAlgo.generate import generate_connection_lines, generate_sampled_points"
   ]
  },
  {
   "cell_type": "markdown",
   "id": "5582a83e",
   "metadata": {},
   "source": [
    "### 设置 notebook 的 matplotlib 后端"
   ]
  },
  {
   "cell_type": "code",
   "execution_count": null,
   "id": "92e4dc4a",
   "metadata": {},
   "outputs": [],
   "source": [
    "# 使用 notebook 的 matplotlib 后端\n",
    "%matplotlib inline"
   ]
  },
  {
   "cell_type": "markdown",
   "id": "5f56a349",
   "metadata": {},
   "source": [
    "### 初始化条件\n",
    "  - 多边形边界\n",
    "  - 引出点\n",
    "  - 障碍物"
   ]
  },
  {
   "cell_type": "code",
   "execution_count": null,
   "id": "c431190b",
   "metadata": {},
   "outputs": [
    {
     "ename": "NameError",
     "evalue": "name 'Polygon' is not defined",
     "output_type": "error",
     "traceback": [
      "\u001b[31m---------------------------------------------------------------------------\u001b[39m",
      "\u001b[31mNameError\u001b[39m                                 Traceback (most recent call last)",
      "\u001b[36mCell\u001b[39m\u001b[36m \u001b[39m\u001b[32mIn[1]\u001b[39m\u001b[32m, line 2\u001b[39m\n\u001b[32m      1\u001b[39m \u001b[38;5;66;03m# 定义多边形边界和关键点\u001b[39;00m\n\u001b[32m----> \u001b[39m\u001b[32m2\u001b[39m polygon = \u001b[43mPolygon\u001b[49m([(\u001b[32m0\u001b[39m, \u001b[32m0\u001b[39m), (\u001b[32m50\u001b[39m, \u001b[32m25\u001b[39m), (\u001b[32m100\u001b[39m, \u001b[32m0\u001b[39m), (\u001b[32m100\u001b[39m, \u001b[32m100\u001b[39m), (\u001b[32m0\u001b[39m, \u001b[32m100\u001b[39m), (\u001b[32m25\u001b[39m, \u001b[32m50\u001b[39m)])\n\u001b[32m      3\u001b[39m points = [\n\u001b[32m      4\u001b[39m     Point(\u001b[32m25\u001b[39m, \u001b[32m25\u001b[39m),\n\u001b[32m      5\u001b[39m     Point(\u001b[32m75\u001b[39m, \u001b[32m25\u001b[39m),\n\u001b[32m   (...)\u001b[39m\u001b[32m     11\u001b[39m     P\n\u001b[32m     12\u001b[39m ]\n\u001b[32m     14\u001b[39m obstacles = [box(\u001b[32m84\u001b[39m, \u001b[32m72\u001b[39m, \u001b[32m88\u001b[39m, \u001b[32m78\u001b[39m)]\n",
      "\u001b[31mNameError\u001b[39m: name 'Polygon' is not defined"
     ]
    }
   ],
   "source": [
    "# 定义多边形边界和关键点\n",
    "polygon = Polygon([(0, 0), (50, 25), (100, 0), (100, 100), (0, 100), (25, 50)])\n",
    "points = [\n",
    "    Point(25, 25),\n",
    "    Point(75, 25),\n",
    "    Point(75, 75),\n",
    "    Point(25, 75),\n",
    "    Point(27.56, 20.61),\n",
    "    Point(30.23, 21.46),\n",
    "    Point(30, 30),\n",
    "]\n",
    "\n",
    "obstacles = [box(84, 72, 88, 78)]"
   ]
  },
  {
   "cell_type": "markdown",
   "id": "ca4c73be",
   "metadata": {},
   "source": [
    "### 生成连接"
   ]
  },
  {
   "cell_type": "code",
   "execution_count": null,
   "id": "951a8097",
   "metadata": {},
   "outputs": [],
   "source": [
    "# 生成连接线\n",
    "lines = generate_connection_lines(points, polygon, obstacles, samples_per_edge=20)"
   ]
  },
  {
   "cell_type": "markdown",
   "id": "0356745b",
   "metadata": {},
   "source": [
    "### 绘制图片"
   ]
  },
  {
   "cell_type": "code",
   "execution_count": null,
   "id": "15974781",
   "metadata": {},
   "outputs": [],
   "source": [
    "_, ax = plt.subplots()\n",
    "\n",
    "# 绘制多边形\n",
    "x_poly, y_poly = polygon.exterior.xy\n",
    "ax.plot(x_poly, y_poly, \"k-\", linewidth=1, label=\"Polygon\")\n",
    "\n",
    "# 多边形采样点\n",
    "sampled = generate_sampled_points(polygon)\n",
    "ax.plot(\n",
    "    [p.x for p in sampled],\n",
    "    [p.y for p in sampled],\n",
    "    \"ro\",\n",
    "    markersize=3,\n",
    "    label=\"Sampled Points\",\n",
    ")\n",
    "\n",
    "# 原始点\n",
    "ax.plot(\n",
    "    [p.x for p in points], [p.y for p in points], \"bo\", markersize=3, label=\"Points\"\n",
    ")\n",
    "\n",
    "# 障碍物绘制\n",
    "for idx, obstacle in enumerate(obstacles):\n",
    "    x_obs, y_obs = obstacle.exterior.xy\n",
    "    label = \"Obstacle\" if idx == 0 else None\n",
    "    ax.fill(x_obs, y_obs, color=\"gray\", alpha=0.5, label=label)\n",
    "\n",
    "# 连接线\n",
    "for line in lines:\n",
    "    x_line, y_line = line.xy\n",
    "    ax.plot(x_line, y_line, color=\"green\", linewidth=1.5)\n",
    "\n",
    "ax.set_aspect(\"equal\")\n",
    "ax.set_title(\"Numbering Annotation Arrangement\")\n",
    "ax.legend()\n",
    "ax.grid(True)"
   ]
  },
  {
   "cell_type": "markdown",
   "id": "55b8fea9",
   "metadata": {},
   "source": [
    "# 简单测试, 例(1)"
   ]
  },
  {
   "cell_type": "code",
   "execution_count": null,
   "id": "4185f94a",
   "metadata": {},
   "outputs": [],
   "source": [
    "# 定义多边形边界和关键点\n",
    "polygon = Polygon([(0, 0), (100, 0), (100, 100), (0, 100)])\n",
    "points = [Point(25, 25), Point(75, 25), Point(75, 75), Point(25, 75)]\n",
    "obstacles = [Polygon([(70, 90), (90, 60), (90, 90)]), box(10, 10, 90, 20)]\n",
    "# obstacles = []\n",
    "lines = generate_connection_lines(points, polygon, obstacles, samples_per_edge=20)\n",
    "\n",
    "_, ax = plt.subplots()\n",
    "\n",
    "# 绘制多边形\n",
    "x_poly, y_poly = polygon.exterior.xy\n",
    "ax.plot(x_poly, y_poly, \"k-\", linewidth=1, label=\"Polygon\")\n",
    "\n",
    "# 多边形采样点\n",
    "sampled = generate_sampled_points(polygon)\n",
    "ax.plot(\n",
    "    [p.x for p in sampled],\n",
    "    [p.y for p in sampled],\n",
    "    \"ro\",\n",
    "    markersize=3,\n",
    "    label=\"Sampled Points\",\n",
    ")\n",
    "\n",
    "# 原始点\n",
    "ax.plot(\n",
    "    [p.x for p in points], [p.y for p in points], \"bo\", markersize=3, label=\"Points\"\n",
    ")\n",
    "\n",
    "# 障碍物绘制\n",
    "for idx, obstacle in enumerate(obstacles):\n",
    "    x_obs, y_obs = obstacle.exterior.xy\n",
    "    label = \"Obstacle\" if idx == 0 else None\n",
    "    ax.fill(x_obs, y_obs, color=\"gray\", alpha=0.5, label=label)\n",
    "\n",
    "# 连接线\n",
    "for line in lines:\n",
    "    x_line, y_line = line.xy\n",
    "    ax.plot(x_line, y_line, color=\"green\", linewidth=1.5)\n",
    "\n",
    "ax.set_aspect(\"equal\")\n",
    "ax.set_title(\"Test 1\")\n",
    "ax.legend()\n",
    "ax.grid(True)"
   ]
  },
  {
   "cell_type": "markdown",
   "id": "50d08634",
   "metadata": {},
   "source": [
    "# 简单测试, 例(2)"
   ]
  },
  {
   "cell_type": "code",
   "execution_count": null,
   "id": "83661481",
   "metadata": {},
   "outputs": [],
   "source": [
    "# 定义多边形边界和关键点\n",
    "polygon = Polygon(\n",
    "    [\n",
    "        (0, 0),\n",
    "        (40, 20),\n",
    "        (100, 0),\n",
    "        (100, 100),\n",
    "        (50, 100),\n",
    "        (0, 60),\n",
    "        (40, 60),\n",
    "        (40, 40),\n",
    "        (0, 40),\n",
    "    ]\n",
    ")\n",
    "points = [Point(25, 25), Point(75, 25), Point(75, 75), Point(25, 75), Point(75, 20)]\n",
    "obstacles = [Polygon([(20, 18), (30, 20), (30, 24)]), Polygon([(20, 30), (40, 30), (25, 35)])]\n",
    "# obstacles = []\n",
    "lines = generate_connection_lines(points, polygon, obstacles, samples_per_edge=20)\n",
    "\n",
    "_, ax = plt.subplots()\n",
    "\n",
    "# 绘制多边形\n",
    "x_poly, y_poly = polygon.exterior.xy\n",
    "ax.plot(x_poly, y_poly, \"k-\", linewidth=1, label=\"Polygon\")\n",
    "\n",
    "# 多边形采样点\n",
    "sampled = generate_sampled_points(polygon)\n",
    "ax.plot(\n",
    "    [p.x for p in sampled],\n",
    "    [p.y for p in sampled],\n",
    "    \"ro\",\n",
    "    markersize=3,\n",
    "    label=\"Sampled Points\",\n",
    ")\n",
    "\n",
    "# 原始点\n",
    "ax.plot(\n",
    "    [p.x for p in points], [p.y for p in points], \"bo\", markersize=3, label=\"Points\"\n",
    ")\n",
    "\n",
    "# 障碍物绘制\n",
    "for idx, obstacle in enumerate(obstacles):\n",
    "    x_obs, y_obs = obstacle.exterior.xy\n",
    "    label = \"Obstacle\" if idx == 0 else None\n",
    "    ax.fill(x_obs, y_obs, color=\"gray\", alpha=0.5, label=label)\n",
    "\n",
    "# 连接线\n",
    "for line in lines:\n",
    "    x_line, y_line = line.xy\n",
    "    ax.plot(x_line, y_line, color=\"green\", linewidth=1.5)\n",
    "\n",
    "ax.set_aspect(\"equal\")\n",
    "ax.set_title(\"Test 2\")\n",
    "ax.legend()\n",
    "ax.grid(True)"
   ]
  }
 ],
 "metadata": {
  "kernelspec": {
   "display_name": "Python 3",
   "language": "python",
   "name": "python3"
  },
  "language_info": {
   "codemirror_mode": {
    "name": "ipython",
    "version": 3
   },
   "file_extension": ".py",
   "mimetype": "text/x-python",
   "name": "python",
   "nbconvert_exporter": "python",
   "pygments_lexer": "ipython3",
   "version": "3.13.5"
  }
 },
 "nbformat": 4,
 "nbformat_minor": 5
}
